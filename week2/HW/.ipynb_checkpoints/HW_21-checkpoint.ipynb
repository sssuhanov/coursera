{
 "cells": [
  {
   "cell_type": "markdown",
   "metadata": {},
   "source": [
    "# Смотрим файлы"
   ]
  },
  {
   "cell_type": "code",
   "execution_count": 115,
   "metadata": {},
   "outputs": [
    {
     "name": "stdout",
     "output_type": "stream",
     "text": [
      "HW_21.ipynb  sentences.txt\r\n"
     ]
    }
   ],
   "source": [
    "ls"
   ]
  },
  {
   "cell_type": "code",
   "execution_count": 116,
   "metadata": {},
   "outputs": [
    {
     "name": "stdout",
     "output_type": "stream",
     "text": [
      "<_io.TextIOWrapper name='sentences.txt' mode='r' encoding='UTF-8'>\n"
     ]
    }
   ],
   "source": [
    "f = open(\"sentences.txt\", \"r\")\n",
    "print(f)"
   ]
  },
  {
   "cell_type": "code",
   "execution_count": 117,
   "metadata": {},
   "outputs": [],
   "source": [
    "text = f.read().lower()"
   ]
  },
  {
   "cell_type": "code",
   "execution_count": 118,
   "metadata": {},
   "outputs": [],
   "source": [
    "import re"
   ]
  },
  {
   "cell_type": "code",
   "execution_count": 119,
   "metadata": {},
   "outputs": [],
   "source": [
    "text = re.split('[^a-z]', text)"
   ]
  },
  {
   "cell_type": "code",
   "execution_count": 120,
   "metadata": {},
   "outputs": [],
   "source": [
    "while '' in text:\n",
    "    text.remove('')"
   ]
  },
  {
   "cell_type": "code",
   "execution_count": 121,
   "metadata": {},
   "outputs": [],
   "source": [
    "words = list(set(text))"
   ]
  },
  {
   "cell_type": "code",
   "execution_count": 122,
   "metadata": {},
   "outputs": [
    {
     "data": {
      "text/plain": [
       "254"
      ]
     },
     "execution_count": 122,
     "metadata": {},
     "output_type": "execute_result"
    }
   ],
   "source": [
    "len(words)"
   ]
  },
  {
   "cell_type": "code",
   "execution_count": 123,
   "metadata": {},
   "outputs": [],
   "source": [
    "un_words = {}\n",
    "i = 0\n",
    "for word in words:\n",
    "    un_words[i] = word\n",
    "    i += 1"
   ]
  },
  {
   "cell_type": "code",
   "execution_count": 124,
   "metadata": {},
   "outputs": [
    {
     "data": {
      "text/plain": [
       "254"
      ]
     },
     "execution_count": 124,
     "metadata": {},
     "output_type": "execute_result"
    }
   ],
   "source": [
    "len(un_words)"
   ]
  },
  {
   "cell_type": "code",
   "execution_count": 125,
   "metadata": {},
   "outputs": [],
   "source": [
    "import numpy as np"
   ]
  },
  {
   "cell_type": "code",
   "execution_count": 126,
   "metadata": {},
   "outputs": [],
   "source": [
    "m = np.zeros((22, 254))"
   ]
  },
  {
   "cell_type": "code",
   "execution_count": 134,
   "metadata": {},
   "outputs": [],
   "source": [
    "file = open(\"sentences.txt\", \"r\")"
   ]
  },
  {
   "cell_type": "code",
   "execution_count": 135,
   "metadata": {},
   "outputs": [],
   "source": [
    "lines = file.readlines()"
   ]
  },
  {
   "cell_type": "code",
   "execution_count": 155,
   "metadata": {},
   "outputs": [],
   "source": [
    "file.close()"
   ]
  },
  {
   "cell_type": "code",
   "execution_count": 141,
   "metadata": {},
   "outputs": [],
   "source": [
    "un_pred = {}\n",
    "i = 0\n",
    "for line in lines:\n",
    "    un_pred[i] = line\n",
    "    i += 1"
   ]
  },
  {
   "cell_type": "code",
   "execution_count": 144,
   "metadata": {},
   "outputs": [
    {
     "data": {
      "text/plain": [
       "22"
      ]
     },
     "execution_count": 144,
     "metadata": {},
     "output_type": "execute_result"
    }
   ],
   "source": [
    "len(un_pred)"
   ]
  },
  {
   "cell_type": "code",
   "execution_count": 153,
   "metadata": {},
   "outputs": [],
   "source": [
    "p = 0\n",
    "w = 0\n",
    "for pred in un_pred:\n",
    "    for word in un_words:\n",
    "        m[pred, word] = un_pred[pred].count(un_words[word])"
   ]
  },
  {
   "cell_type": "code",
   "execution_count": null,
   "metadata": {},
   "outputs": [],
   "source": []
  },
  {
   "cell_type": "code",
   "execution_count": null,
   "metadata": {},
   "outputs": [],
   "source": [
    "s = []\n",
    "\n",
    "for i in range(len(a)):\n",
    "    for j in range(len(b_list)):\n",
    "        s.append(a[i].count(b_list[j]))\n",
    "\n",
    "matr = np.array(s) \n",
    "d = matr.reshape((22, 254)) "
   ]
  },
  {
   "cell_type": "code",
   "execution_count": 162,
   "metadata": {},
   "outputs": [],
   "source": [
    "from scipy.spatial import distance"
   ]
  },
  {
   "cell_type": "code",
   "execution_count": 164,
   "metadata": {},
   "outputs": [],
   "source": [
    "dists = []\n",
    "for row in m:\n",
    "    dists.append(scipy.spatial.distance.cosine(m[0,:], row))"
   ]
  },
  {
   "cell_type": "code",
   "execution_count": 166,
   "metadata": {
    "scrolled": true
   },
   "outputs": [
    {
     "data": {
      "text/plain": [
       "{0: 'entirely',\n",
       " 1: 'permanently',\n",
       " 2: 'has',\n",
       " 3: 'starting',\n",
       " 4: 'or',\n",
       " 5: 'predators',\n",
       " 6: 'legibility',\n",
       " 7: 'genes',\n",
       " 8: 'where',\n",
       " 9: 'yosemite',\n",
       " 10: 'editions',\n",
       " 11: 'without',\n",
       " 12: 'predecessor',\n",
       " 13: 'installation',\n",
       " 14: 'output',\n",
       " 15: 'no',\n",
       " 16: 'ears',\n",
       " 17: 'now',\n",
       " 18: 'patch',\n",
       " 19: 'than',\n",
       " 20: 'available',\n",
       " 21: 'frequency',\n",
       " 22: 'october',\n",
       " 23: 'mid',\n",
       " 24: 'their',\n",
       " 25: 'download',\n",
       " 26: 'release',\n",
       " 27: 'stdout',\n",
       " 28: 'for',\n",
       " 29: 'default',\n",
       " 30: 'it',\n",
       " 31: 'often',\n",
       " 32: 'marks',\n",
       " 33: 'kg',\n",
       " 34: 'offered',\n",
       " 35: 'basic',\n",
       " 36: 'an',\n",
       " 37: 'closest',\n",
       " 38: 'is',\n",
       " 39: 'contains',\n",
       " 40: 'also',\n",
       " 41: 'and',\n",
       " 42: 'hear',\n",
       " 43: 'faint',\n",
       " 44: 'most',\n",
       " 45: 'enhancements',\n",
       " 46: 'sequence',\n",
       " 47: 'size',\n",
       " 48: 'any',\n",
       " 49: 'allows',\n",
       " 50: 'concern',\n",
       " 51: 'from',\n",
       " 52: 'other',\n",
       " 53: 'process',\n",
       " 54: 'successor',\n",
       " 55: 'july',\n",
       " 56: 'external',\n",
       " 57: 'some',\n",
       " 58: 'piped',\n",
       " 59: 'os',\n",
       " 60: 'one',\n",
       " 61: 'a',\n",
       " 62: 'unnecessary',\n",
       " 63: 'computers',\n",
       " 64: 'symbols',\n",
       " 65: 'redirection',\n",
       " 66: 'named',\n",
       " 67: 'use',\n",
       " 68: 'cats',\n",
       " 69: 'felis',\n",
       " 70: 'commands',\n",
       " 71: 'diploid',\n",
       " 72: 'information',\n",
       " 73: 'wrong',\n",
       " 74: 'which',\n",
       " 75: 'processors',\n",
       " 76: 'through',\n",
       " 77: 'drive',\n",
       " 78: 'be',\n",
       " 79: 'deliberately',\n",
       " 80: 'possess',\n",
       " 81: 'mice',\n",
       " 82: 'however',\n",
       " 83: 'domestic',\n",
       " 84: 'the',\n",
       " 85: 'were',\n",
       " 86: 'installed',\n",
       " 87: 'time',\n",
       " 88: 'separate',\n",
       " 89: 'changes',\n",
       " 90: 'genus',\n",
       " 91: 'count',\n",
       " 92: 'catenates',\n",
       " 93: 'mac',\n",
       " 94: 'to',\n",
       " 95: 'streams',\n",
       " 96: 'of',\n",
       " 97: 'installs',\n",
       " 98: 'selection',\n",
       " 99: 'tiger',\n",
       " 100: 'place',\n",
       " 101: 'those',\n",
       " 102: 'wild',\n",
       " 103: 'interactive',\n",
       " 104: 'update',\n",
       " 105: 'firmware',\n",
       " 106: 'artificial',\n",
       " 107: 'disk',\n",
       " 108: 'pipes',\n",
       " 109: 'more',\n",
       " 110: 'that',\n",
       " 111: 'right',\n",
       " 112: 'leopard',\n",
       " 113: 'not',\n",
       " 114: 'sounds',\n",
       " 115: 'major',\n",
       " 116: 'roughly',\n",
       " 117: 'organisms',\n",
       " 118: 'used',\n",
       " 119: 'moved',\n",
       " 120: 'run',\n",
       " 121: 'unix',\n",
       " 122: 'switch',\n",
       " 123: 'over',\n",
       " 124: 'keyboards',\n",
       " 125: 'tamed',\n",
       " 126: 'using',\n",
       " 127: 'safari',\n",
       " 128: 'year',\n",
       " 129: 'safer',\n",
       " 130: 'content',\n",
       " 131: 'high',\n",
       " 132: 'longer',\n",
       " 133: 'cat',\n",
       " 134: 'so',\n",
       " 135: 'if',\n",
       " 136: 'rather',\n",
       " 137: 'useful',\n",
       " 138: 'chromosomes',\n",
       " 139: 'undergone',\n",
       " 140: 'as',\n",
       " 141: 'similar',\n",
       " 142: 'by',\n",
       " 143: 'file',\n",
       " 144: 'versions',\n",
       " 145: 'command',\n",
       " 146: 'intel',\n",
       " 147: 'bytes',\n",
       " 148: 'apple',\n",
       " 149: 'clear',\n",
       " 150: 'incremental',\n",
       " 151: 'both',\n",
       " 152: 'lb',\n",
       " 153: 'too',\n",
       " 154: 'common',\n",
       " 155: 'files',\n",
       " 156: 'symbol',\n",
       " 157: 'arguments',\n",
       " 158: 'displays',\n",
       " 159: 'learned',\n",
       " 160: 'releasing',\n",
       " 161: 'second',\n",
       " 162: 'lines',\n",
       " 163: 'single',\n",
       " 164: 'just',\n",
       " 165: 's',\n",
       " 166: 'off',\n",
       " 167: 'connected',\n",
       " 168: 'according',\n",
       " 169: 'osx',\n",
       " 170: 'two',\n",
       " 171: 'factory',\n",
       " 172: 'in',\n",
       " 173: 'have',\n",
       " 174: 'may',\n",
       " 175: 'dogs',\n",
       " 176: 'weighing',\n",
       " 177: 'concatenate',\n",
       " 178: 'started',\n",
       " 179: 'people',\n",
       " 180: 'developed',\n",
       " 181: 'non',\n",
       " 182: 'online',\n",
       " 183: 'made',\n",
       " 184: 'small',\n",
       " 185: 'mavericks',\n",
       " 186: 'fifth',\n",
       " 187: 'terms',\n",
       " 188: 'delete',\n",
       " 189: 'part',\n",
       " 190: 'every',\n",
       " 191: 'upgrade',\n",
       " 192: 'during',\n",
       " 193: 'receives',\n",
       " 194: 'linux',\n",
       " 195: 'community',\n",
       " 196: 't',\n",
       " 197: 'lion',\n",
       " 198: 'needing',\n",
       " 199: 'later',\n",
       " 200: 'on',\n",
       " 201: 'redirected',\n",
       " 202: 'will',\n",
       " 203: 'domesticated',\n",
       " 204: 'human',\n",
       " 205: 'need',\n",
       " 206: 'app',\n",
       " 207: 'instead',\n",
       " 208: 'members',\n",
       " 209: 'type',\n",
       " 210: 'read',\n",
       " 211: 'was',\n",
       " 212: 'its',\n",
       " 213: 'features',\n",
       " 214: 'vermin',\n",
       " 215: 'world',\n",
       " 216: 'are',\n",
       " 217: 'you',\n",
       " 218: 'flow',\n",
       " 219: 'error',\n",
       " 220: 'recent',\n",
       " 221: 'purchase',\n",
       " 222: 'allow',\n",
       " 223: 'x',\n",
       " 224: 'can',\n",
       " 225: 'mountain',\n",
       " 226: 'between',\n",
       " 227: 'new',\n",
       " 228: 'left',\n",
       " 229: 'simply',\n",
       " 230: 'store',\n",
       " 231: 'typically',\n",
       " 232: 'releases',\n",
       " 233: 'adjacent',\n",
       " 234: 'three',\n",
       " 235: 'running',\n",
       " 236: 'version',\n",
       " 237: 'won',\n",
       " 238: 'standard',\n",
       " 239: 'ancestor',\n",
       " 240: 'since',\n",
       " 241: 'such',\n",
       " 242: 'they',\n",
       " 243: 'based',\n",
       " 244: 'create',\n",
       " 245: 'comparison',\n",
       " 246: 'received',\n",
       " 247: 'with',\n",
       " 248: 'when',\n",
       " 249: 'stdin',\n",
       " 250: 'released',\n",
       " 251: 'animals',\n",
       " 252: 'domestication',\n",
       " 253: 'binary'}"
      ]
     },
     "execution_count": 166,
     "metadata": {},
     "output_type": "execute_result"
    }
   ],
   "source": [
    "un_words"
   ]
  },
  {
   "cell_type": "code",
   "execution_count": 169,
   "metadata": {},
   "outputs": [
    {
     "data": {
      "text/plain": [
       "{0: 'In comparison to dogs, cats have not undergone major changes during the domestication process.\\n',\n",
       " 1: 'As cat simply catenates streams of bytes, it can be also used to concatenate binary files, where it will just concatenate sequence of bytes.\\n',\n",
       " 2: 'A common interactive use of cat for a single file is to output the content of a file to standard output.\\n',\n",
       " 3: 'Cats can hear sounds too faint or too high in frequency for human ears, such as those made by mice and other small animals.\\n',\n",
       " 4: 'In one, people deliberately tamed cats in a process of artificial selection, as they were useful predators of vermin.\\n',\n",
       " 5: 'The domesticated cat and its closest wild ancestor are both diploid organisms that possess 38 chromosomes and roughly 20,000 genes.\\n',\n",
       " 6: 'Domestic cats are similar in size to the other members of the genus Felis, typically weighing between 4 and 5 kg (8.8 and 11.0 lb).\\n',\n",
       " 7: 'However, if the output is piped or redirected, cat is unnecessary.\\n',\n",
       " 8: 'cat with one named file is safer where human error is a concern - one wrong use of the default redirection symbol \">\" instead of \"<\" (often adjacent on keyboards) may permanently delete the file you were just needing to read.\\n',\n",
       " 9: 'In terms of legibility, a sequence of commands starting with cat and connected by pipes has a clear left-to-right flow of information.\\n',\n",
       " 10: 'Cat command is one of the basic commands that you learned when you started in the Unix / Linux world.\\n',\n",
       " 11: 'Using cat command, the lines received from stdin can be redirected to a new file using redirection symbols.\\n',\n",
       " 12: 'When you type simply cat command without any arguments, it just receives the stdin content and displays it in the stdout.\\n',\n",
       " 13: 'Leopard was released on October 26, 2007 as the successor of Tiger (version 10.4), and is available in two editions.\\n',\n",
       " 14: 'According to Apple, Leopard contains over 300 changes and enhancements over its predecessor, Mac OS X Tiger.\\n',\n",
       " 15: 'As of Mid 2010, some Apple computers have firmware factory installed which will no longer allow installation of Mac OS X Leopard.\\n',\n",
       " 16: 'Since Apple moved to using Intel processors in their computers, the OSx86 community has developed and now also allows Mac OS X Tiger and later releases to be installed on non-Apple x86-based computers.\\n',\n",
       " 17: \"OS X Mountain Lion was released on July 25, 2012 for purchase and download through Apple's Mac App Store, as part of a switch to releasing OS X versions online and every year.\\n\",\n",
       " 18: 'Apple has released a small patch for the three most recent versions of Safari running on OS X Yosemite, Mavericks, and Mountain Lion.\\n',\n",
       " 19: 'The Mountain Lion release marks the second time Apple has offered an incremental upgrade, rather than releasing a new cat entirely.\\n',\n",
       " 20: \"Mac OS X Mountain Lion installs in place, so you won't need to create a separate disk or run the installation off an external drive.\\n\",\n",
       " 21: \"The fifth major update to Mac OS X, Leopard, contains such a mountain of features - more than 300 by Apple's count.\\n\"}"
      ]
     },
     "execution_count": 169,
     "metadata": {},
     "output_type": "execute_result"
    }
   ],
   "source": [
    "un_pred"
   ]
  },
  {
   "cell_type": "code",
   "execution_count": 170,
   "metadata": {},
   "outputs": [
    {
     "data": {
      "text/plain": [
       "[0.0,\n",
       " 0.11236785836780294,\n",
       " 0.20990123148051676,\n",
       " 0.1718100353714005,\n",
       " 0.10844417175827137,\n",
       " 0.1383986153560195,\n",
       " 0.1550610072153059,\n",
       " 0.19144360687691353,\n",
       " 0.12352612610933855,\n",
       " 0.1669893097709717,\n",
       " 0.19999999999999996,\n",
       " 0.18034681501095406,\n",
       " 0.187922846762961,\n",
       " 0.13805708722614995,\n",
       " 0.15324355567273162,\n",
       " 0.15916744154542095,\n",
       " 0.1187445801104211,\n",
       " 0.17320378624727006,\n",
       " 0.13143497532364534,\n",
       " 0.1825127824194317,\n",
       " 0.14141625919410072,\n",
       " 0.1732459664995103]"
      ]
     },
     "execution_count": 170,
     "metadata": {},
     "output_type": "execute_result"
    }
   ],
   "source": [
    "dists"
   ]
  },
  {
   "cell_type": "code",
   "execution_count": null,
   "metadata": {},
   "outputs": [],
   "source": []
  }
 ],
 "metadata": {
  "kernelspec": {
   "display_name": "Python 3",
   "language": "python",
   "name": "python3"
  },
  "language_info": {
   "codemirror_mode": {
    "name": "ipython",
    "version": 3
   },
   "file_extension": ".py",
   "mimetype": "text/x-python",
   "name": "python",
   "nbconvert_exporter": "python",
   "pygments_lexer": "ipython3",
   "version": "3.6.5"
  }
 },
 "nbformat": 4,
 "nbformat_minor": 2
}
