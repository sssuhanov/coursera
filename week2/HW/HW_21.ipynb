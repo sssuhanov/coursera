{
 "cells": [
  {
   "cell_type": "markdown",
   "metadata": {},
   "source": [
    "# Смотрим файлы"
   ]
  },
  {
   "cell_type": "code",
   "execution_count": 2,
   "metadata": {},
   "outputs": [
    {
     "name": "stdout",
     "output_type": "stream",
     "text": [
      "HW_21.ipynb  HW-22.ipynb  sentences.txt  test.txt\r\n"
     ]
    }
   ],
   "source": [
    "ls"
   ]
  },
  {
   "cell_type": "code",
   "execution_count": 3,
   "metadata": {},
   "outputs": [
    {
     "name": "stdout",
     "output_type": "stream",
     "text": [
      "<_io.TextIOWrapper name='sentences.txt' mode='r' encoding='UTF-8'>\n"
     ]
    }
   ],
   "source": [
    "f = open(\"sentences.txt\", \"r\")\n",
    "print(f)"
   ]
  },
  {
   "cell_type": "code",
   "execution_count": 4,
   "metadata": {},
   "outputs": [],
   "source": [
    "text = f.read().lower()"
   ]
  },
  {
   "cell_type": "code",
   "execution_count": 5,
   "metadata": {},
   "outputs": [],
   "source": [
    "import re"
   ]
  },
  {
   "cell_type": "code",
   "execution_count": 6,
   "metadata": {},
   "outputs": [],
   "source": [
    "text = re.split('[^a-z]', text)"
   ]
  },
  {
   "cell_type": "code",
   "execution_count": 7,
   "metadata": {},
   "outputs": [],
   "source": [
    "while '' in text:\n",
    "    text.remove('')"
   ]
  },
  {
   "cell_type": "code",
   "execution_count": 8,
   "metadata": {},
   "outputs": [],
   "source": [
    "words = list(set(text))"
   ]
  },
  {
   "cell_type": "code",
   "execution_count": 9,
   "metadata": {},
   "outputs": [
    {
     "data": {
      "text/plain": [
       "254"
      ]
     },
     "execution_count": 9,
     "metadata": {},
     "output_type": "execute_result"
    }
   ],
   "source": [
    "len(words)"
   ]
  },
  {
   "cell_type": "code",
   "execution_count": 10,
   "metadata": {},
   "outputs": [],
   "source": [
    "un_words = {}\n",
    "i = 0\n",
    "for word in words:\n",
    "    un_words[i] = word\n",
    "    i += 1"
   ]
  },
  {
   "cell_type": "code",
   "execution_count": 11,
   "metadata": {},
   "outputs": [
    {
     "data": {
      "text/plain": [
       "254"
      ]
     },
     "execution_count": 11,
     "metadata": {},
     "output_type": "execute_result"
    }
   ],
   "source": [
    "len(un_words)"
   ]
  },
  {
   "cell_type": "code",
   "execution_count": 12,
   "metadata": {},
   "outputs": [],
   "source": [
    "import numpy as np"
   ]
  },
  {
   "cell_type": "code",
   "execution_count": 13,
   "metadata": {},
   "outputs": [],
   "source": [
    "m = np.zeros((22, 254))"
   ]
  },
  {
   "cell_type": "code",
   "execution_count": 14,
   "metadata": {},
   "outputs": [],
   "source": [
    "file = open(\"sentences.txt\", \"r\")"
   ]
  },
  {
   "cell_type": "code",
   "execution_count": 15,
   "metadata": {},
   "outputs": [],
   "source": [
    "lines = file.readlines()"
   ]
  },
  {
   "cell_type": "code",
   "execution_count": 16,
   "metadata": {},
   "outputs": [],
   "source": [
    "file.close()"
   ]
  },
  {
   "cell_type": "code",
   "execution_count": 17,
   "metadata": {},
   "outputs": [],
   "source": [
    "un_pred = {}\n",
    "i = 0\n",
    "for line in lines:\n",
    "    un_pred[i] = line\n",
    "    i += 1"
   ]
  },
  {
   "cell_type": "code",
   "execution_count": 18,
   "metadata": {},
   "outputs": [
    {
     "data": {
      "text/plain": [
       "22"
      ]
     },
     "execution_count": 18,
     "metadata": {},
     "output_type": "execute_result"
    }
   ],
   "source": [
    "len(un_pred)"
   ]
  },
  {
   "cell_type": "code",
   "execution_count": 19,
   "metadata": {},
   "outputs": [],
   "source": [
    "p = 0\n",
    "w = 0\n",
    "for pred in un_pred:\n",
    "    for word in un_words:\n",
    "        m[pred, word] = un_pred[pred].count(un_words[word])"
   ]
  },
  {
   "cell_type": "markdown",
   "metadata": {},
   "source": [
    "# Нашел красивое решение уже правда после своего убожества =))"
   ]
  },
  {
   "cell_type": "code",
   "execution_count": 20,
   "metadata": {},
   "outputs": [],
   "source": [
    "#s = []\n",
    "#\n",
    "#for i in range(len(a)):\n",
    "#    for j in range(len(b_list)):\n",
    "#        s.append(a[i].count(b_list[j]))\n",
    "#\n",
    "#matr = np.array(s) \n",
    "#d = matr.reshape((22, 254)) "
   ]
  },
  {
   "cell_type": "code",
   "execution_count": 21,
   "metadata": {},
   "outputs": [],
   "source": [
    "from scipy.spatial import distance"
   ]
  },
  {
   "cell_type": "code",
   "execution_count": 22,
   "metadata": {},
   "outputs": [],
   "source": [
    "dists = []\n",
    "for row in m:\n",
    "    dists.append(distance.cosine(m[0,:], row))"
   ]
  },
  {
   "cell_type": "code",
   "execution_count": 23,
   "metadata": {
    "scrolled": true
   },
   "outputs": [
    {
     "data": {
      "text/plain": [
       "array([[0., 0., 0., ..., 1., 0., 0.],\n",
       "       [0., 0., 0., ..., 0., 0., 0.],\n",
       "       [0., 0., 0., ..., 0., 0., 0.],\n",
       "       ...,\n",
       "       [0., 0., 0., ..., 0., 0., 0.],\n",
       "       [0., 0., 0., ..., 0., 0., 0.],\n",
       "       [0., 0., 0., ..., 0., 0., 0.]])"
      ]
     },
     "execution_count": 23,
     "metadata": {},
     "output_type": "execute_result"
    }
   ],
   "source": [
    "m"
   ]
  },
  {
   "cell_type": "code",
   "execution_count": 24,
   "metadata": {},
   "outputs": [
    {
     "data": {
      "text/plain": [
       "{0: 'online',\n",
       " 1: 'july',\n",
       " 2: 'that',\n",
       " 3: 's',\n",
       " 4: 'tiger',\n",
       " 5: 'wrong',\n",
       " 6: 'entirely',\n",
       " 7: 'unix',\n",
       " 8: 'streams',\n",
       " 9: 'have',\n",
       " 10: 'app',\n",
       " 11: 'use',\n",
       " 12: 'of',\n",
       " 13: 'domestication',\n",
       " 14: 'keyboards',\n",
       " 15: 'members',\n",
       " 16: 'starting',\n",
       " 17: 'more',\n",
       " 18: 'computers',\n",
       " 19: 'receives',\n",
       " 20: 'its',\n",
       " 21: 'most',\n",
       " 22: 'drive',\n",
       " 23: 'leopard',\n",
       " 24: 'catenates',\n",
       " 25: 'major',\n",
       " 26: 'content',\n",
       " 27: 'legibility',\n",
       " 28: 'cats',\n",
       " 29: 'genes',\n",
       " 30: 'based',\n",
       " 31: 'run',\n",
       " 32: 'used',\n",
       " 33: 'sounds',\n",
       " 34: 'any',\n",
       " 35: 'you',\n",
       " 36: 'from',\n",
       " 37: 'just',\n",
       " 38: 'editions',\n",
       " 39: 'terms',\n",
       " 40: 'allow',\n",
       " 41: 'new',\n",
       " 42: 'which',\n",
       " 43: 'is',\n",
       " 44: 'without',\n",
       " 45: 'some',\n",
       " 46: 'firmware',\n",
       " 47: 'useful',\n",
       " 48: 'according',\n",
       " 49: 'roughly',\n",
       " 50: 'binary',\n",
       " 51: 'three',\n",
       " 52: 'stdout',\n",
       " 53: 'closest',\n",
       " 54: 'x',\n",
       " 55: 'pipes',\n",
       " 56: 'over',\n",
       " 57: 'commands',\n",
       " 58: 'information',\n",
       " 59: 'version',\n",
       " 60: 'fifth',\n",
       " 61: 'mountain',\n",
       " 62: 'type',\n",
       " 63: 'ancestor',\n",
       " 64: 'second',\n",
       " 65: 'interactive',\n",
       " 66: 'offered',\n",
       " 67: 'are',\n",
       " 68: 'be',\n",
       " 69: 'small',\n",
       " 70: 'flow',\n",
       " 71: 'both',\n",
       " 72: 'may',\n",
       " 73: 'weighing',\n",
       " 74: 'piped',\n",
       " 75: 'delete',\n",
       " 76: 'patch',\n",
       " 77: 'disk',\n",
       " 78: 'available',\n",
       " 79: 'concern',\n",
       " 80: 'named',\n",
       " 81: 'symbol',\n",
       " 82: 'every',\n",
       " 83: 'purchase',\n",
       " 84: 'won',\n",
       " 85: 'releases',\n",
       " 86: 'with',\n",
       " 87: 'community',\n",
       " 88: 'human',\n",
       " 89: 'in',\n",
       " 90: 'kg',\n",
       " 91: 'instead',\n",
       " 92: 'intel',\n",
       " 93: 'between',\n",
       " 94: 'default',\n",
       " 95: 'switch',\n",
       " 96: 'an',\n",
       " 97: 'other',\n",
       " 98: 'recent',\n",
       " 99: 'possess',\n",
       " 100: 'frequency',\n",
       " 101: 'off',\n",
       " 102: 'too',\n",
       " 103: 'simply',\n",
       " 104: 'predators',\n",
       " 105: 'wild',\n",
       " 106: 'external',\n",
       " 107: 'made',\n",
       " 108: 'time',\n",
       " 109: 'developed',\n",
       " 110: 'unnecessary',\n",
       " 111: 'size',\n",
       " 112: 'need',\n",
       " 113: 'process',\n",
       " 114: 'for',\n",
       " 115: 'output',\n",
       " 116: 'will',\n",
       " 117: 'files',\n",
       " 118: 'on',\n",
       " 119: 'arguments',\n",
       " 120: 'deliberately',\n",
       " 121: 'the',\n",
       " 122: 'domesticated',\n",
       " 123: 'adjacent',\n",
       " 124: 'to',\n",
       " 125: 'connected',\n",
       " 126: 'marks',\n",
       " 127: 'non',\n",
       " 128: 'longer',\n",
       " 129: 'high',\n",
       " 130: 'using',\n",
       " 131: 'read',\n",
       " 132: 'right',\n",
       " 133: 'contains',\n",
       " 134: 'changes',\n",
       " 135: 'was',\n",
       " 136: 'apple',\n",
       " 137: 'releasing',\n",
       " 138: 'yosemite',\n",
       " 139: 'single',\n",
       " 140: 'faint',\n",
       " 141: 'stdin',\n",
       " 142: 'successor',\n",
       " 143: 'through',\n",
       " 144: 'undergone',\n",
       " 145: 'command',\n",
       " 146: 'file',\n",
       " 147: 'tamed',\n",
       " 148: 'error',\n",
       " 149: 'basic',\n",
       " 150: 'october',\n",
       " 151: 'left',\n",
       " 152: 'than',\n",
       " 153: 'can',\n",
       " 154: 'redirection',\n",
       " 155: 'update',\n",
       " 156: 'concatenate',\n",
       " 157: 'their',\n",
       " 158: 'running',\n",
       " 159: 'installs',\n",
       " 160: 'organisms',\n",
       " 161: 'selection',\n",
       " 162: 'upgrade',\n",
       " 163: 'year',\n",
       " 164: 'safer',\n",
       " 165: 'comparison',\n",
       " 166: 'installation',\n",
       " 167: 'redirected',\n",
       " 168: 'needing',\n",
       " 169: 'clear',\n",
       " 170: 'received',\n",
       " 171: 'allows',\n",
       " 172: 'features',\n",
       " 173: 'create',\n",
       " 174: 'lion',\n",
       " 175: 'where',\n",
       " 176: 'vermin',\n",
       " 177: 'felis',\n",
       " 178: 'two',\n",
       " 179: 'however',\n",
       " 180: 'when',\n",
       " 181: 'later',\n",
       " 182: 'so',\n",
       " 183: 'people',\n",
       " 184: 'osx',\n",
       " 185: 't',\n",
       " 186: 'typically',\n",
       " 187: 'standard',\n",
       " 188: 'released',\n",
       " 189: 'mid',\n",
       " 190: 'hear',\n",
       " 191: 'those',\n",
       " 192: 'it',\n",
       " 193: 'no',\n",
       " 194: 'were',\n",
       " 195: 'and',\n",
       " 196: 'during',\n",
       " 197: 'similar',\n",
       " 198: 'world',\n",
       " 199: 'os',\n",
       " 200: 'part',\n",
       " 201: 'symbols',\n",
       " 202: 'displays',\n",
       " 203: 'installed',\n",
       " 204: 'release',\n",
       " 205: 'incremental',\n",
       " 206: 'mice',\n",
       " 207: 'if',\n",
       " 208: 'a',\n",
       " 209: 'separate',\n",
       " 210: 'often',\n",
       " 211: 'diploid',\n",
       " 212: 'predecessor',\n",
       " 213: 'now',\n",
       " 214: 'started',\n",
       " 215: 'cat',\n",
       " 216: 'one',\n",
       " 217: 'sequence',\n",
       " 218: 'safari',\n",
       " 219: 'animals',\n",
       " 220: 'bytes',\n",
       " 221: 'domestic',\n",
       " 222: 'linux',\n",
       " 223: 'learned',\n",
       " 224: 'enhancements',\n",
       " 225: 'mavericks',\n",
       " 226: 'or',\n",
       " 227: 'chromosomes',\n",
       " 228: 'mac',\n",
       " 229: 'rather',\n",
       " 230: 'place',\n",
       " 231: 'artificial',\n",
       " 232: 'processors',\n",
       " 233: 'factory',\n",
       " 234: 'permanently',\n",
       " 235: 'store',\n",
       " 236: 'genus',\n",
       " 237: 'not',\n",
       " 238: 'has',\n",
       " 239: 'also',\n",
       " 240: 'download',\n",
       " 241: 'versions',\n",
       " 242: 'such',\n",
       " 243: 'by',\n",
       " 244: 'moved',\n",
       " 245: 'common',\n",
       " 246: 'ears',\n",
       " 247: 'lb',\n",
       " 248: 'since',\n",
       " 249: 'count',\n",
       " 250: 'as',\n",
       " 251: 'dogs',\n",
       " 252: 'lines',\n",
       " 253: 'they'}"
      ]
     },
     "execution_count": 24,
     "metadata": {},
     "output_type": "execute_result"
    }
   ],
   "source": [
    "un_words"
   ]
  },
  {
   "cell_type": "code",
   "execution_count": 25,
   "metadata": {},
   "outputs": [
    {
     "data": {
      "text/plain": [
       "{0: 'In comparison to dogs, cats have not undergone major changes during the domestication process.\\n',\n",
       " 1: 'As cat simply catenates streams of bytes, it can be also used to concatenate binary files, where it will just concatenate sequence of bytes.\\n',\n",
       " 2: 'A common interactive use of cat for a single file is to output the content of a file to standard output.\\n',\n",
       " 3: 'Cats can hear sounds too faint or too high in frequency for human ears, such as those made by mice and other small animals.\\n',\n",
       " 4: 'In one, people deliberately tamed cats in a process of artificial selection, as they were useful predators of vermin.\\n',\n",
       " 5: 'The domesticated cat and its closest wild ancestor are both diploid organisms that possess 38 chromosomes and roughly 20,000 genes.\\n',\n",
       " 6: 'Domestic cats are similar in size to the other members of the genus Felis, typically weighing between 4 and 5 kg (8.8 and 11.0 lb).\\n',\n",
       " 7: 'However, if the output is piped or redirected, cat is unnecessary.\\n',\n",
       " 8: 'cat with one named file is safer where human error is a concern - one wrong use of the default redirection symbol \">\" instead of \"<\" (often adjacent on keyboards) may permanently delete the file you were just needing to read.\\n',\n",
       " 9: 'In terms of legibility, a sequence of commands starting with cat and connected by pipes has a clear left-to-right flow of information.\\n',\n",
       " 10: 'Cat command is one of the basic commands that you learned when you started in the Unix / Linux world.\\n',\n",
       " 11: 'Using cat command, the lines received from stdin can be redirected to a new file using redirection symbols.\\n',\n",
       " 12: 'When you type simply cat command without any arguments, it just receives the stdin content and displays it in the stdout.\\n',\n",
       " 13: 'Leopard was released on October 26, 2007 as the successor of Tiger (version 10.4), and is available in two editions.\\n',\n",
       " 14: 'According to Apple, Leopard contains over 300 changes and enhancements over its predecessor, Mac OS X Tiger.\\n',\n",
       " 15: 'As of Mid 2010, some Apple computers have firmware factory installed which will no longer allow installation of Mac OS X Leopard.\\n',\n",
       " 16: 'Since Apple moved to using Intel processors in their computers, the OSx86 community has developed and now also allows Mac OS X Tiger and later releases to be installed on non-Apple x86-based computers.\\n',\n",
       " 17: \"OS X Mountain Lion was released on July 25, 2012 for purchase and download through Apple's Mac App Store, as part of a switch to releasing OS X versions online and every year.\\n\",\n",
       " 18: 'Apple has released a small patch for the three most recent versions of Safari running on OS X Yosemite, Mavericks, and Mountain Lion.\\n',\n",
       " 19: 'The Mountain Lion release marks the second time Apple has offered an incremental upgrade, rather than releasing a new cat entirely.\\n',\n",
       " 20: \"Mac OS X Mountain Lion installs in place, so you won't need to create a separate disk or run the installation off an external drive.\\n\",\n",
       " 21: \"The fifth major update to Mac OS X, Leopard, contains such a mountain of features - more than 300 by Apple's count.\\n\"}"
      ]
     },
     "execution_count": 25,
     "metadata": {},
     "output_type": "execute_result"
    }
   ],
   "source": [
    "un_pred"
   ]
  },
  {
   "cell_type": "code",
   "execution_count": 26,
   "metadata": {},
   "outputs": [
    {
     "data": {
      "text/plain": [
       "[0.0,\n",
       " 0.11236785836780294,\n",
       " 0.20990123148051676,\n",
       " 0.1718100353714005,\n",
       " 0.10844417175827137,\n",
       " 0.1383986153560195,\n",
       " 0.1550610072153059,\n",
       " 0.19144360687691353,\n",
       " 0.12352612610933855,\n",
       " 0.1669893097709717,\n",
       " 0.19999999999999996,\n",
       " 0.18034681501095406,\n",
       " 0.187922846762961,\n",
       " 0.13805708722614995,\n",
       " 0.15324355567273162,\n",
       " 0.15916744154542095,\n",
       " 0.1187445801104211,\n",
       " 0.17320378624727006,\n",
       " 0.13143497532364534,\n",
       " 0.1825127824194317,\n",
       " 0.14141625919410072,\n",
       " 0.1732459664995103]"
      ]
     },
     "execution_count": 26,
     "metadata": {},
     "output_type": "execute_result"
    }
   ],
   "source": [
    "dists"
   ]
  },
  {
   "cell_type": "code",
   "execution_count": 27,
   "metadata": {},
   "outputs": [
    {
     "data": {
      "text/plain": [
       "list"
      ]
     },
     "execution_count": 27,
     "metadata": {},
     "output_type": "execute_result"
    }
   ],
   "source": [
    "type(dists)"
   ]
  },
  {
   "cell_type": "code",
   "execution_count": 28,
   "metadata": {},
   "outputs": [],
   "source": [
    "dists.sort()"
   ]
  },
  {
   "cell_type": "code",
   "execution_count": 29,
   "metadata": {
    "scrolled": true
   },
   "outputs": [
    {
     "data": {
      "text/plain": [
       "[0.0,\n",
       " 0.10844417175827137,\n",
       " 0.11236785836780294,\n",
       " 0.1187445801104211,\n",
       " 0.12352612610933855,\n",
       " 0.13143497532364534,\n",
       " 0.13805708722614995,\n",
       " 0.1383986153560195,\n",
       " 0.14141625919410072,\n",
       " 0.15324355567273162,\n",
       " 0.1550610072153059,\n",
       " 0.15916744154542095,\n",
       " 0.1669893097709717,\n",
       " 0.1718100353714005,\n",
       " 0.17320378624727006,\n",
       " 0.1732459664995103,\n",
       " 0.18034681501095406,\n",
       " 0.1825127824194317,\n",
       " 0.187922846762961,\n",
       " 0.19144360687691353,\n",
       " 0.19999999999999996,\n",
       " 0.20990123148051676]"
      ]
     },
     "execution_count": 29,
     "metadata": {},
     "output_type": "execute_result"
    }
   ],
   "source": [
    "dists"
   ]
  },
  {
   "cell_type": "code",
   "execution_count": null,
   "metadata": {},
   "outputs": [],
   "source": []
  }
 ],
 "metadata": {
  "kernelspec": {
   "display_name": "Python 3",
   "language": "python",
   "name": "python3"
  },
  "language_info": {
   "codemirror_mode": {
    "name": "ipython",
    "version": 3
   },
   "file_extension": ".py",
   "mimetype": "text/x-python",
   "name": "python",
   "nbconvert_exporter": "python",
   "pygments_lexer": "ipython3",
   "version": "3.6.5"
  }
 },
 "nbformat": 4,
 "nbformat_minor": 2
}
