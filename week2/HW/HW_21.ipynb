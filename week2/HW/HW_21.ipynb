{
 "cells": [
  {
   "cell_type": "markdown",
   "metadata": {},
   "source": [
    "# Смотрим файлы"
   ]
  },
  {
   "cell_type": "code",
   "execution_count": 26,
   "metadata": {},
   "outputs": [
    {
     "name": "stdout",
     "output_type": "stream",
     "text": [
      "HW_21.ipynb  HW-22.ipynb  sentences.txt  test.txt\r\n"
     ]
    }
   ],
   "source": [
    "ls"
   ]
  },
  {
   "cell_type": "code",
   "execution_count": 27,
   "metadata": {},
   "outputs": [
    {
     "name": "stdout",
     "output_type": "stream",
     "text": [
      "<_io.TextIOWrapper name='sentences.txt' mode='r' encoding='UTF-8'>\n"
     ]
    }
   ],
   "source": [
    "f = open(\"sentences.txt\", \"r\")\n",
    "print(f)"
   ]
  },
  {
   "cell_type": "code",
   "execution_count": 28,
   "metadata": {},
   "outputs": [],
   "source": [
    "text = f.read().lower()"
   ]
  },
  {
   "cell_type": "code",
   "execution_count": 29,
   "metadata": {},
   "outputs": [],
   "source": [
    "import re"
   ]
  },
  {
   "cell_type": "code",
   "execution_count": 30,
   "metadata": {},
   "outputs": [],
   "source": [
    "text = re.split('[^a-z]', text)"
   ]
  },
  {
   "cell_type": "code",
   "execution_count": 31,
   "metadata": {},
   "outputs": [],
   "source": [
    "while '' in text:\n",
    "    text.remove('')"
   ]
  },
  {
   "cell_type": "code",
   "execution_count": 32,
   "metadata": {},
   "outputs": [],
   "source": [
    "words = list(set(text))"
   ]
  },
  {
   "cell_type": "code",
   "execution_count": 33,
   "metadata": {},
   "outputs": [
    {
     "data": {
      "text/plain": [
       "254"
      ]
     },
     "execution_count": 33,
     "metadata": {},
     "output_type": "execute_result"
    }
   ],
   "source": [
    "len(words)"
   ]
  },
  {
   "cell_type": "code",
   "execution_count": 34,
   "metadata": {},
   "outputs": [],
   "source": [
    "un_words = {}\n",
    "i = 0\n",
    "for word in words:\n",
    "    un_words[i] = word\n",
    "    i += 1"
   ]
  },
  {
   "cell_type": "code",
   "execution_count": 35,
   "metadata": {},
   "outputs": [
    {
     "data": {
      "text/plain": [
       "254"
      ]
     },
     "execution_count": 35,
     "metadata": {},
     "output_type": "execute_result"
    }
   ],
   "source": [
    "len(un_words)"
   ]
  },
  {
   "cell_type": "code",
   "execution_count": 36,
   "metadata": {},
   "outputs": [],
   "source": [
    "import numpy as np"
   ]
  },
  {
   "cell_type": "code",
   "execution_count": 37,
   "metadata": {},
   "outputs": [],
   "source": [
    "m = np.zeros((22, 254))"
   ]
  },
  {
   "cell_type": "code",
   "execution_count": 38,
   "metadata": {},
   "outputs": [],
   "source": [
    "file = open(\"sentences.txt\", \"r\")"
   ]
  },
  {
   "cell_type": "code",
   "execution_count": 39,
   "metadata": {},
   "outputs": [],
   "source": [
    "lines = file.readlines()"
   ]
  },
  {
   "cell_type": "code",
   "execution_count": 40,
   "metadata": {},
   "outputs": [],
   "source": [
    "file.close()"
   ]
  },
  {
   "cell_type": "code",
   "execution_count": 41,
   "metadata": {},
   "outputs": [],
   "source": [
    "un_pred = {}\n",
    "i = 0\n",
    "for line in lines:\n",
    "    un_pred[i] = line\n",
    "    i += 1"
   ]
  },
  {
   "cell_type": "code",
   "execution_count": 42,
   "metadata": {},
   "outputs": [
    {
     "data": {
      "text/plain": [
       "22"
      ]
     },
     "execution_count": 42,
     "metadata": {},
     "output_type": "execute_result"
    }
   ],
   "source": [
    "len(un_pred)"
   ]
  },
  {
   "cell_type": "code",
   "execution_count": 43,
   "metadata": {},
   "outputs": [],
   "source": [
    "p = 0\n",
    "w = 0\n",
    "for pred in un_pred:\n",
    "    for word in un_words:\n",
    "        m[pred, word] = un_pred[pred].count(un_words[word])"
   ]
  },
  {
   "cell_type": "markdown",
   "metadata": {},
   "source": [
    "# Нашел красивое решение уже правда после своего убожества =))"
   ]
  },
  {
   "cell_type": "code",
   "execution_count": 44,
   "metadata": {},
   "outputs": [],
   "source": [
    "#s = []\n",
    "#\n",
    "#for i in range(len(a)):\n",
    "#    for j in range(len(b_list)):\n",
    "#        s.append(a[i].count(b_list[j]))\n",
    "#\n",
    "#matr = np.array(s) \n",
    "#d = matr.reshape((22, 254)) "
   ]
  },
  {
   "cell_type": "code",
   "execution_count": 45,
   "metadata": {},
   "outputs": [],
   "source": [
    "from scipy.spatial import distance"
   ]
  },
  {
   "cell_type": "code",
   "execution_count": 46,
   "metadata": {},
   "outputs": [],
   "source": [
    "dists = []\n",
    "for row in m:\n",
    "    dists.append(distance.cosine(m[0,:], row))"
   ]
  },
  {
   "cell_type": "code",
   "execution_count": 54,
   "metadata": {
    "scrolled": false
   },
   "outputs": [
    {
     "data": {
      "text/plain": [
       "(22, 254)"
      ]
     },
     "execution_count": 54,
     "metadata": {},
     "output_type": "execute_result"
    }
   ],
   "source": [
    "m.shape"
   ]
  },
  {
   "cell_type": "code",
   "execution_count": 48,
   "metadata": {},
   "outputs": [
    {
     "data": {
      "text/plain": [
       "{0: 'cats',\n",
       " 1: 'installation',\n",
       " 2: 'lion',\n",
       " 3: 'received',\n",
       " 4: 'symbol',\n",
       " 5: 'stdin',\n",
       " 6: 'firmware',\n",
       " 7: 'release',\n",
       " 8: 'small',\n",
       " 9: 'sequence',\n",
       " 10: 'during',\n",
       " 11: 'right',\n",
       " 12: 'made',\n",
       " 13: 'learned',\n",
       " 14: 'safer',\n",
       " 15: 'started',\n",
       " 16: 'also',\n",
       " 17: 'drive',\n",
       " 18: 'over',\n",
       " 19: 'according',\n",
       " 20: 'no',\n",
       " 21: 'longer',\n",
       " 22: 'if',\n",
       " 23: 'animals',\n",
       " 24: 'starting',\n",
       " 25: 'without',\n",
       " 26: 's',\n",
       " 27: 'undergone',\n",
       " 28: 'interactive',\n",
       " 29: 'typically',\n",
       " 30: 'too',\n",
       " 31: 'computers',\n",
       " 32: 'since',\n",
       " 33: 'of',\n",
       " 34: 'safari',\n",
       " 35: 'yosemite',\n",
       " 36: 'process',\n",
       " 37: 'the',\n",
       " 38: 'faint',\n",
       " 39: 'enhancements',\n",
       " 40: 'are',\n",
       " 41: 'you',\n",
       " 42: 'october',\n",
       " 43: 'using',\n",
       " 44: 'changes',\n",
       " 45: 'comparison',\n",
       " 46: 'lb',\n",
       " 47: 'released',\n",
       " 48: 'so',\n",
       " 49: 'won',\n",
       " 50: 'selection',\n",
       " 51: 'delete',\n",
       " 52: 'files',\n",
       " 53: 'now',\n",
       " 54: 'which',\n",
       " 55: 'for',\n",
       " 56: 'an',\n",
       " 57: 'simply',\n",
       " 58: 'domesticated',\n",
       " 59: 'lines',\n",
       " 60: 'major',\n",
       " 61: 'named',\n",
       " 62: 'command',\n",
       " 63: 'displays',\n",
       " 64: 'concatenate',\n",
       " 65: 'on',\n",
       " 66: 'allow',\n",
       " 67: 'be',\n",
       " 68: 'download',\n",
       " 69: 'single',\n",
       " 70: 'permanently',\n",
       " 71: 'one',\n",
       " 72: 'its',\n",
       " 73: 'online',\n",
       " 74: 'by',\n",
       " 75: 'releasing',\n",
       " 76: 'mountain',\n",
       " 77: 'non',\n",
       " 78: 'will',\n",
       " 79: 'x',\n",
       " 80: 'contains',\n",
       " 81: 'unnecessary',\n",
       " 82: 'ancestor',\n",
       " 83: 'a',\n",
       " 84: 'factory',\n",
       " 85: 'binary',\n",
       " 86: 'useful',\n",
       " 87: 'such',\n",
       " 88: 'redirected',\n",
       " 89: 'where',\n",
       " 90: 'patch',\n",
       " 91: 'catenates',\n",
       " 92: 'left',\n",
       " 93: 'running',\n",
       " 94: 'available',\n",
       " 95: 'connected',\n",
       " 96: 'through',\n",
       " 97: 'output',\n",
       " 98: 'installs',\n",
       " 99: 'wrong',\n",
       " 100: 'not',\n",
       " 101: 'similar',\n",
       " 102: 'or',\n",
       " 103: 'was',\n",
       " 104: 'file',\n",
       " 105: 'frequency',\n",
       " 106: 'possess',\n",
       " 107: 'read',\n",
       " 108: 'felis',\n",
       " 109: 'incremental',\n",
       " 110: 'with',\n",
       " 111: 'deliberately',\n",
       " 112: 'terms',\n",
       " 113: 'domestic',\n",
       " 114: 'offered',\n",
       " 115: 'separate',\n",
       " 116: 'dogs',\n",
       " 117: 'genus',\n",
       " 118: 'concern',\n",
       " 119: 'use',\n",
       " 120: 'than',\n",
       " 121: 'roughly',\n",
       " 122: 'fifth',\n",
       " 123: 'create',\n",
       " 124: 'store',\n",
       " 125: 'update',\n",
       " 126: 'people',\n",
       " 127: 'later',\n",
       " 128: 'some',\n",
       " 129: 'most',\n",
       " 130: 'wild',\n",
       " 131: 'leopard',\n",
       " 132: 'features',\n",
       " 133: 'disk',\n",
       " 134: 'unix',\n",
       " 135: 'weighing',\n",
       " 136: 'they',\n",
       " 137: 'cat',\n",
       " 138: 'is',\n",
       " 139: 'high',\n",
       " 140: 'predecessor',\n",
       " 141: 'tamed',\n",
       " 142: 'every',\n",
       " 143: 'off',\n",
       " 144: 'external',\n",
       " 145: 'just',\n",
       " 146: 'any',\n",
       " 147: 'however',\n",
       " 148: 'osx',\n",
       " 149: 'redirection',\n",
       " 150: 'clear',\n",
       " 151: 'type',\n",
       " 152: 'bytes',\n",
       " 153: 'rather',\n",
       " 154: 'two',\n",
       " 155: 'recent',\n",
       " 156: 'hear',\n",
       " 157: 'their',\n",
       " 158: 'app',\n",
       " 159: 'entirely',\n",
       " 160: 'other',\n",
       " 161: 'apple',\n",
       " 162: 'common',\n",
       " 163: 'that',\n",
       " 164: 'basic',\n",
       " 165: 'three',\n",
       " 166: 'chromosomes',\n",
       " 167: 'os',\n",
       " 168: 'vermin',\n",
       " 169: 'time',\n",
       " 170: 'second',\n",
       " 171: 'in',\n",
       " 172: 'new',\n",
       " 173: 'piped',\n",
       " 174: 'size',\n",
       " 175: 'processors',\n",
       " 176: 'may',\n",
       " 177: 'count',\n",
       " 178: 'adjacent',\n",
       " 179: 'needing',\n",
       " 180: 'ears',\n",
       " 181: 'flow',\n",
       " 182: 'symbols',\n",
       " 183: 'installed',\n",
       " 184: 'artificial',\n",
       " 185: 'often',\n",
       " 186: 'organisms',\n",
       " 187: 'mid',\n",
       " 188: 'those',\n",
       " 189: 'tiger',\n",
       " 190: 'part',\n",
       " 191: 'version',\n",
       " 192: 'instead',\n",
       " 193: 't',\n",
       " 194: 'mice',\n",
       " 195: 'linux',\n",
       " 196: 'run',\n",
       " 197: 'more',\n",
       " 198: 'diploid',\n",
       " 199: 'error',\n",
       " 200: 'as',\n",
       " 201: 'content',\n",
       " 202: 'when',\n",
       " 203: 'need',\n",
       " 204: 'world',\n",
       " 205: 'human',\n",
       " 206: 'genes',\n",
       " 207: 'successor',\n",
       " 208: 'can',\n",
       " 209: 'moved',\n",
       " 210: 'upgrade',\n",
       " 211: 'receives',\n",
       " 212: 'sounds',\n",
       " 213: 'legibility',\n",
       " 214: 'keyboards',\n",
       " 215: 'stdout',\n",
       " 216: 'closest',\n",
       " 217: 'allows',\n",
       " 218: 'mac',\n",
       " 219: 'releases',\n",
       " 220: 'default',\n",
       " 221: 'kg',\n",
       " 222: 'between',\n",
       " 223: 'predators',\n",
       " 224: 'july',\n",
       " 225: 'have',\n",
       " 226: 'to',\n",
       " 227: 'both',\n",
       " 228: 'versions',\n",
       " 229: 'developed',\n",
       " 230: 'were',\n",
       " 231: 'switch',\n",
       " 232: 'editions',\n",
       " 233: 'based',\n",
       " 234: 'from',\n",
       " 235: 'mavericks',\n",
       " 236: 'has',\n",
       " 237: 'place',\n",
       " 238: 'community',\n",
       " 239: 'commands',\n",
       " 240: 'information',\n",
       " 241: 'intel',\n",
       " 242: 'domestication',\n",
       " 243: 'members',\n",
       " 244: 'and',\n",
       " 245: 'pipes',\n",
       " 246: 'arguments',\n",
       " 247: 'standard',\n",
       " 248: 'streams',\n",
       " 249: 'it',\n",
       " 250: 'purchase',\n",
       " 251: 'year',\n",
       " 252: 'marks',\n",
       " 253: 'used'}"
      ]
     },
     "execution_count": 48,
     "metadata": {},
     "output_type": "execute_result"
    }
   ],
   "source": [
    "un_words"
   ]
  },
  {
   "cell_type": "code",
   "execution_count": 49,
   "metadata": {},
   "outputs": [
    {
     "data": {
      "text/plain": [
       "{0: 'In comparison to dogs, cats have not undergone major changes during the domestication process.\\n',\n",
       " 1: 'As cat simply catenates streams of bytes, it can be also used to concatenate binary files, where it will just concatenate sequence of bytes.\\n',\n",
       " 2: 'A common interactive use of cat for a single file is to output the content of a file to standard output.\\n',\n",
       " 3: 'Cats can hear sounds too faint or too high in frequency for human ears, such as those made by mice and other small animals.\\n',\n",
       " 4: 'In one, people deliberately tamed cats in a process of artificial selection, as they were useful predators of vermin.\\n',\n",
       " 5: 'The domesticated cat and its closest wild ancestor are both diploid organisms that possess 38 chromosomes and roughly 20,000 genes.\\n',\n",
       " 6: 'Domestic cats are similar in size to the other members of the genus Felis, typically weighing between 4 and 5 kg (8.8 and 11.0 lb).\\n',\n",
       " 7: 'However, if the output is piped or redirected, cat is unnecessary.\\n',\n",
       " 8: 'cat with one named file is safer where human error is a concern - one wrong use of the default redirection symbol \">\" instead of \"<\" (often adjacent on keyboards) may permanently delete the file you were just needing to read.\\n',\n",
       " 9: 'In terms of legibility, a sequence of commands starting with cat and connected by pipes has a clear left-to-right flow of information.\\n',\n",
       " 10: 'Cat command is one of the basic commands that you learned when you started in the Unix / Linux world.\\n',\n",
       " 11: 'Using cat command, the lines received from stdin can be redirected to a new file using redirection symbols.\\n',\n",
       " 12: 'When you type simply cat command without any arguments, it just receives the stdin content and displays it in the stdout.\\n',\n",
       " 13: 'Leopard was released on October 26, 2007 as the successor of Tiger (version 10.4), and is available in two editions.\\n',\n",
       " 14: 'According to Apple, Leopard contains over 300 changes and enhancements over its predecessor, Mac OS X Tiger.\\n',\n",
       " 15: 'As of Mid 2010, some Apple computers have firmware factory installed which will no longer allow installation of Mac OS X Leopard.\\n',\n",
       " 16: 'Since Apple moved to using Intel processors in their computers, the OSx86 community has developed and now also allows Mac OS X Tiger and later releases to be installed on non-Apple x86-based computers.\\n',\n",
       " 17: \"OS X Mountain Lion was released on July 25, 2012 for purchase and download through Apple's Mac App Store, as part of a switch to releasing OS X versions online and every year.\\n\",\n",
       " 18: 'Apple has released a small patch for the three most recent versions of Safari running on OS X Yosemite, Mavericks, and Mountain Lion.\\n',\n",
       " 19: 'The Mountain Lion release marks the second time Apple has offered an incremental upgrade, rather than releasing a new cat entirely.\\n',\n",
       " 20: \"Mac OS X Mountain Lion installs in place, so you won't need to create a separate disk or run the installation off an external drive.\\n\",\n",
       " 21: \"The fifth major update to Mac OS X, Leopard, contains such a mountain of features - more than 300 by Apple's count.\\n\"}"
      ]
     },
     "execution_count": 49,
     "metadata": {},
     "output_type": "execute_result"
    }
   ],
   "source": [
    "un_pred"
   ]
  },
  {
   "cell_type": "code",
   "execution_count": 50,
   "metadata": {},
   "outputs": [
    {
     "data": {
      "text/plain": [
       "[0.0,\n",
       " 0.11236785836780294,\n",
       " 0.20990123148051676,\n",
       " 0.1718100353714005,\n",
       " 0.10844417175827137,\n",
       " 0.1383986153560195,\n",
       " 0.1550610072153059,\n",
       " 0.19144360687691353,\n",
       " 0.12352612610933855,\n",
       " 0.1669893097709717,\n",
       " 0.19999999999999996,\n",
       " 0.18034681501095406,\n",
       " 0.187922846762961,\n",
       " 0.13805708722614995,\n",
       " 0.15324355567273162,\n",
       " 0.15916744154542095,\n",
       " 0.1187445801104211,\n",
       " 0.17320378624727006,\n",
       " 0.13143497532364534,\n",
       " 0.1825127824194317,\n",
       " 0.14141625919410072,\n",
       " 0.1732459664995103]"
      ]
     },
     "execution_count": 50,
     "metadata": {},
     "output_type": "execute_result"
    }
   ],
   "source": [
    "dists"
   ]
  },
  {
   "cell_type": "code",
   "execution_count": 51,
   "metadata": {},
   "outputs": [
    {
     "data": {
      "text/plain": [
       "list"
      ]
     },
     "execution_count": 51,
     "metadata": {},
     "output_type": "execute_result"
    }
   ],
   "source": [
    "type(dists)"
   ]
  },
  {
   "cell_type": "code",
   "execution_count": 52,
   "metadata": {},
   "outputs": [],
   "source": [
    "dists.sort()"
   ]
  },
  {
   "cell_type": "code",
   "execution_count": 53,
   "metadata": {
    "scrolled": true
   },
   "outputs": [
    {
     "data": {
      "text/plain": [
       "[0.0,\n",
       " 0.10844417175827137,\n",
       " 0.11236785836780294,\n",
       " 0.1187445801104211,\n",
       " 0.12352612610933855,\n",
       " 0.13143497532364534,\n",
       " 0.13805708722614995,\n",
       " 0.1383986153560195,\n",
       " 0.14141625919410072,\n",
       " 0.15324355567273162,\n",
       " 0.1550610072153059,\n",
       " 0.15916744154542095,\n",
       " 0.1669893097709717,\n",
       " 0.1718100353714005,\n",
       " 0.17320378624727006,\n",
       " 0.1732459664995103,\n",
       " 0.18034681501095406,\n",
       " 0.1825127824194317,\n",
       " 0.187922846762961,\n",
       " 0.19144360687691353,\n",
       " 0.19999999999999996,\n",
       " 0.20990123148051676]"
      ]
     },
     "execution_count": 53,
     "metadata": {},
     "output_type": "execute_result"
    }
   ],
   "source": [
    "dists"
   ]
  },
  {
   "cell_type": "code",
   "execution_count": null,
   "metadata": {},
   "outputs": [],
   "source": []
  }
 ],
 "metadata": {
  "kernelspec": {
   "display_name": "Python 3",
   "language": "python",
   "name": "python3"
  },
  "language_info": {
   "codemirror_mode": {
    "name": "ipython",
    "version": 3
   },
   "file_extension": ".py",
   "mimetype": "text/x-python",
   "name": "python",
   "nbconvert_exporter": "python",
   "pygments_lexer": "ipython3",
   "version": "3.6.5"
  }
 },
 "nbformat": 4,
 "nbformat_minor": 2
}
